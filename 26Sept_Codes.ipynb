{
  "nbformat": 4,
  "nbformat_minor": 0,
  "metadata": {
    "colab": {
      "provenance": [],
      "authorship_tag": "ABX9TyOJF0BoLmnLcaePVqoGeKE+",
      "include_colab_link": true
    },
    "kernelspec": {
      "name": "python3",
      "display_name": "Python 3"
    },
    "language_info": {
      "name": "python"
    }
  },
  "cells": [
    {
      "cell_type": "markdown",
      "metadata": {
        "id": "view-in-github",
        "colab_type": "text"
      },
      "source": [
        "<a href=\"https://colab.research.google.com/github/Shaivartha/26Sept_Codes/blob/main/26Sept_Codes.ipynb\" target=\"_parent\"><img src=\"https://colab.research.google.com/assets/colab-badge.svg\" alt=\"Open In Colab\"/></a>"
      ]
    },
    {
      "cell_type": "code",
      "execution_count": 19,
      "metadata": {
        "colab": {
          "base_uri": "https://localhost:8080/"
        },
        "id": "XSzdeZU_pB4W",
        "outputId": "5933d8f6-616c-46dd-e552-790b62db33fa"
      },
      "outputs": [
        {
          "output_type": "stream",
          "name": "stdout",
          "text": [
            "['this', 'is', 'a', 'simple', 'list', 35]\n"
          ]
        }
      ],
      "source": [
        "import json\n",
        "\n",
        "my_list = [\"this\", \"is\", \"a\", \"simple\", \"list\", 35]\n",
        "\n",
        "# Serialize the list to a file\n",
        "with open(\"storage.txt\", \"w\") as fs:\n",
        "    my_json_object = json.dump(my_list, fs)\n",
        "\n",
        "# Deserialize the list from the file\n",
        "with open(\"storage.txt\", \"r\") as fds:\n",
        "    my_second_list = json.load(fds)\n",
        "\n",
        "# Print the deserialized list\n",
        "print(my_second_list)"
      ]
    },
    {
      "cell_type": "code",
      "source": [
        "students = {\n",
        "    1: {\n",
        "        'Name': \"Alice\", 'Age': 10, 'Grade': 4,\n",
        "    },\n",
        "    2: {\n",
        "        'Name': 'Bob', 'Age': 11, 'Grade': 5\n",
        "    },\n",
        "    3: {\n",
        "        'Name': 'Elena', 'Age': 14, 'Grade': 8\n",
        "    }\n",
        "}\n",
        "\n",
        "# Check the type of the 'students' dictionary\n",
        "print(type(students))\n",
        "\n",
        "# Write the dictionary to a file as a string\n",
        "with open('student_info.txt', 'w') as data:\n",
        "    data.write(str(students))\n",
        "\n",
        "# Read the file and print each line\n",
        "with open(\"student_info.txt\", 'r') as f:\n",
        "    for students in f:  # Avoid overwriting the 'students' dictionary\n",
        "        print(students)\n",
        "\n",
        "# Check the type of 'students' in the loop (which will be a string here)\n",
        "print(type(students))"
      ],
      "metadata": {
        "colab": {
          "base_uri": "https://localhost:8080/"
        },
        "id": "DgE6HgNyrNfI",
        "outputId": "3f7a359f-3519-46b4-d7ba-ed7df7480dd9"
      },
      "execution_count": 18,
      "outputs": [
        {
          "output_type": "stream",
          "name": "stdout",
          "text": [
            "<class 'dict'>\n",
            "{1: {'Name': 'Alice', 'Age': 10, 'Grade': 4}, 2: {'Name': 'Bob', 'Age': 11, 'Grade': 5}, 3: {'Name': 'Elena', 'Age': 14, 'Grade': 8}}\n",
            "<class 'str'>\n"
          ]
        }
      ]
    },
    {
      "cell_type": "code",
      "source": [
        "import json\n",
        "\n",
        "students = {\n",
        "    1: {\n",
        "        'Name': \"Alice\", 'Age': 10, 'Grade': 4,\n",
        "    },\n",
        "    2: {\n",
        "        'Name': 'Bob', 'Age': 11, 'Grade': 5\n",
        "    },\n",
        "    3: {\n",
        "        'Name': 'Elena', 'Age': 14, 'Grade': 8\n",
        "    }\n",
        "}\n",
        "\n",
        "with open(\"storage.json\", \"w\") as fs:\n",
        "    my_json_object = json.dump(students, fs) #Use 'students'instead of'my_list'\n",
        "\n",
        "with open(\"storage.json\", \"r\") as fds:\n",
        "    my_second_list = json.load(fds)\n",
        "\n",
        "print(my_second_list)\n"
      ],
      "metadata": {
        "colab": {
          "base_uri": "https://localhost:8080/"
        },
        "id": "ptjdGTD_r3fH",
        "outputId": "216a9284-0b07-40af-daf8-cca2cdde2403"
      },
      "execution_count": 17,
      "outputs": [
        {
          "output_type": "stream",
          "name": "stdout",
          "text": [
            "{'1': {'Name': 'Alice', 'Age': 10, 'Grade': 4}, '2': {'Name': 'Bob', 'Age': 11, 'Grade': 5}, '3': {'Name': 'Elena', 'Age': 14, 'Grade': 8}}\n"
          ]
        }
      ]
    },
    {
      "cell_type": "code",
      "source": [
        "# Serializing Python Data Structures with Pickle\n",
        "import pickle\n",
        "\n",
        "student_names = ['Alice','Bob','Elena','Jane','Kyle']\n",
        "with open('student_file.pkl', 'wb') as f: # open a text file\n",
        "  pickle.dump(student_names, f) # serialize the list\n",
        "\n",
        "f.close()\n",
        "\n",
        "with open('student_file.pkl', 'rb') as f:\n",
        "  student_names_loaded = pickle.load(f) # deserialize using load()\n",
        "  print(student_names_loaded) # print student names\n",
        "\n",
        "  type(student_names_loaded)\n"
      ],
      "metadata": {
        "colab": {
          "base_uri": "https://localhost:8080/"
        },
        "id": "GCXeNWcDsjGb",
        "outputId": "4eb554a1-a20b-4448-fecb-6543cc0c2d9f"
      },
      "execution_count": 15,
      "outputs": [
        {
          "output_type": "stream",
          "name": "stdout",
          "text": [
            "['Alice', 'Bob', 'Elena', 'Jane', 'Kyle']\n"
          ]
        }
      ]
    },
    {
      "cell_type": "code",
      "source": [
        "# Numpy Arrays\n",
        "import numpy as np\n",
        "\n",
        "numpy_array = np.ones((10,10)) # 10x10 array\n",
        "with open('my_array.pkl','wb') as f:\n",
        "  pickle.dump(numpy_array, f)\n",
        "\n",
        "with open('my_array.pkl','rb') as f:\n",
        "  unpickled_array = pickle.load(f)\n",
        "  print('Array shape: '+str(unpickled_array.shape))\n",
        "  print('Data type: '+str(type(unpickled_array)))"
      ],
      "metadata": {
        "colab": {
          "base_uri": "https://localhost:8080/"
        },
        "id": "lO-eJXUrvVjY",
        "outputId": "3cb40382-6f9d-4e02-824b-b03644134974"
      },
      "execution_count": 16,
      "outputs": [
        {
          "output_type": "stream",
          "name": "stdout",
          "text": [
            "Array shape: (10, 10)\n",
            "Data type: <class 'numpy.ndarray'>\n"
          ]
        }
      ]
    },
    {
      "cell_type": "code",
      "source": [
        "# Data structures\n",
        "# Collections\n",
        "# Lists\n",
        "\n",
        "names = ['elvis', 'aswath', 'siddharth', 'harsh', 'abi']\n",
        "print(names)\n",
        "print(len(names))\n",
        "\n",
        "# Loop through each name in the list\n",
        "for i in names:\n",
        "    print(i)\n",
        "\n",
        "# Loop through the list using index\n",
        "for i in range(len(names)):\n",
        "    print(names[i])\n",
        "\n",
        "# Append a new name to the list\n",
        "names.append('ilango')\n",
        "print(names)\n",
        "\n",
        "# Check for specific names in the list\n",
        "for i in names:\n",
        "    if i == 'prithvi':\n",
        "        print(i, \" is in \", names.index(i))\n",
        "    elif i == 'ilango':\n",
        "        print(i, \" is in \", names.index(i))\n",
        "\n",
        "# Modify the first name in the list\n",
        "names[0] = 'asohan'\n",
        "print(names)"
      ],
      "metadata": {
        "colab": {
          "base_uri": "https://localhost:8080/"
        },
        "id": "LEkoZelVxeEh",
        "outputId": "ee4edc81-e650-4616-ec2d-2b5b615e9a0b"
      },
      "execution_count": 20,
      "outputs": [
        {
          "output_type": "stream",
          "name": "stdout",
          "text": [
            "['elvis', 'aswath', 'siddharth', 'harsh', 'abi']\n",
            "5\n",
            "elvis\n",
            "aswath\n",
            "siddharth\n",
            "harsh\n",
            "abi\n",
            "elvis\n",
            "aswath\n",
            "siddharth\n",
            "harsh\n",
            "abi\n",
            "['elvis', 'aswath', 'siddharth', 'harsh', 'abi', 'ilango']\n",
            "ilango  is in  5\n",
            "['asohan', 'aswath', 'siddharth', 'harsh', 'abi', 'ilango']\n"
          ]
        }
      ]
    },
    {
      "cell_type": "code",
      "source": [
        "# Iterator\n",
        "myname=\"Harshavardhanan\"\n",
        "itr=iter(myname)\n",
        "\n",
        "print(next(itr))\n",
        "print(next(itr))\n",
        "print(next(itr))\n",
        "print(next(itr))\n",
        "print(next(itr))"
      ],
      "metadata": {
        "colab": {
          "base_uri": "https://localhost:8080/"
        },
        "id": "5Gjt7opCy7Fn",
        "outputId": "9b3cb939-1649-42dd-b463-d5e8cdc9017a"
      },
      "execution_count": 21,
      "outputs": [
        {
          "output_type": "stream",
          "name": "stdout",
          "text": [
            "H\n",
            "a\n",
            "r\n",
            "s\n",
            "h\n"
          ]
        }
      ]
    }
  ]
}